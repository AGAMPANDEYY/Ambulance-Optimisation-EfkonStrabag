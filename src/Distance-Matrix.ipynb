{
 "cells": [
  {
   "cell_type": "code",
   "execution_count": 27,
   "id": "b16823a1-b997-46ae-b069-143f39b74efb",
   "metadata": {},
   "outputs": [
    {
     "name": "stdout",
     "output_type": "stream",
     "text": [
      "Collecting geopy\n",
      "  Downloading geopy-2.4.1-py3-none-any.whl.metadata (6.8 kB)\n",
      "Collecting geographiclib<3,>=1.52 (from geopy)\n",
      "  Downloading geographiclib-2.0-py3-none-any.whl.metadata (1.4 kB)\n",
      "Downloading geopy-2.4.1-py3-none-any.whl (125 kB)\n",
      "   ---------------------------------------- 0.0/125.4 kB ? eta -:--:--\n",
      "   ---------------------------------------- 0.0/125.4 kB ? eta -:--:--\n",
      "   --- ------------------------------------ 10.2/125.4 kB ? eta -:--:--\n",
      "   --------- ----------------------------- 30.7/125.4 kB 445.2 kB/s eta 0:00:01\n",
      "   ---------------------------------------  122.9/125.4 kB 1.0 MB/s eta 0:00:01\n",
      "   -------------------------------------- 125.4/125.4 kB 822.8 kB/s eta 0:00:00\n",
      "Downloading geographiclib-2.0-py3-none-any.whl (40 kB)\n",
      "   ---------------------------------------- 0.0/40.3 kB ? eta -:--:--\n",
      "   ---------------------------------------- 40.3/40.3 kB 970.5 kB/s eta 0:00:00\n",
      "Installing collected packages: geographiclib, geopy\n",
      "Successfully installed geographiclib-2.0 geopy-2.4.1\n"
     ]
    }
   ],
   "source": [
    "!pip install geopy"
   ]
  },
  {
   "cell_type": "code",
   "execution_count": 196,
   "id": "d78633d4-a10d-4e57-8dc1-e88422e2833f",
   "metadata": {},
   "outputs": [
    {
     "name": "stderr",
     "output_type": "stream",
     "text": [
      "Calculating distances for Sheet1: 100%|████████████████████████████████████████████████| 77/77 [01:26<00:00,  1.12s/it]\n"
     ]
    }
   ],
   "source": [
    "import pandas as pd\n",
    "import numpy as np\n",
    "from geopy.distance import geodesic\n",
    "from tqdm import tqdm\n",
    "\n",
    "# Load the CSV file into a DataFrame\n",
    "df = pd.read_csv(\"C:/Users/dell/Downloads/Work_Agam/Strabag_Opt/files/Accident-LatLon.csv\")\n",
    "\n",
    "# Drop the first row if needed\n",
    "df.drop(0, inplace=True)\n",
    "\n",
    "# Extract coordinates from the DataFrame\n",
    "coordinates = df[['Accident_LATITUDE', 'Accident_LONGITUDE']].to_numpy()\n",
    "\n",
    "# Initialize an empty distance matrix\n",
    "num_rows = len(df)\n",
    "distance_matrix = np.zeros((num_rows, num_rows))\n",
    "\n",
    "# Calculate distances between each pair of coordinates\n",
    "with tqdm(total=num_rows*num_rows, desc=\"Calculating distances\") as pbar:\n",
    "    for i in range(num_rows):\n",
    "        for j in range(num_rows):\n",
    "            coord1 = (coordinates[i][0], coordinates[i][1])\n",
    "            coord2 = (coordinates[j][0], coordinates[j][1])\n",
    "            if i != j:\n",
    "                distance_matrix[i][j] = geodesic(coord1, coord2).kilometers\n",
    "            pbar.update(1)  # Update progress bar\n",
    "\n",
    "# Convert the distance matrix to a DataFrame\n",
    "distance_df = pd.DataFrame(distance_matrix, columns=[f\"Distance to {i}\" for i in range(num_rows)], index=[f\"Accident {i}\" for i in range(num_rows)])\n",
    "\n",
    "# Save the distance DataFrame to an Excel file\n",
    "output_file = \"Accident_Distances_Matrix.csv\"\n",
    "distance_df.to_csv(output_file, index=True)"
   ]
  }
 ],
 "metadata": {
  "kernelspec": {
   "display_name": "Python 3 (ipykernel)",
   "language": "python",
   "name": "python3"
  },
  "language_info": {
   "codemirror_mode": {
    "name": "ipython",
    "version": 3
   },
   "file_extension": ".py",
   "mimetype": "text/x-python",
   "name": "python",
   "nbconvert_exporter": "python",
   "pygments_lexer": "ipython3",
   "version": "3.11.7"
  }
 },
 "nbformat": 4,
 "nbformat_minor": 5
}
