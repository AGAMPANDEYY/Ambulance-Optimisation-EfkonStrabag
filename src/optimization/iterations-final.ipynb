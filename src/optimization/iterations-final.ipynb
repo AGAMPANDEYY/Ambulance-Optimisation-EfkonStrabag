{
 "cells": [
  {
   "cell_type": "code",
   "execution_count": null,
   "metadata": {},
   "outputs": [],
   "source": [
    "import pandas as pd\n",
    "import numpy as np\n",
    "import matplotlib.pyplot as plt\n",
    "import seaborn as sns\n",
    "\n",
    "opt_df=pd.read_csv(\"/workspaces/Accident-Opt-Strabag/DataFiles/optimised_ambulance_allotment-1.csv\")\n",
    "old_df=pd.read_csv(\"/workspaces/Accident-Opt-Strabag/DataFiles/old-ambulance_allotment.csv\")\n",
    "\n"
   ]
  },
  {
   "cell_type": "markdown",
   "metadata": {},
   "source": []
  },
  {
   "cell_type": "code",
   "execution_count": null,
   "metadata": {},
   "outputs": [],
   "source": []
  }
 ],
 "metadata": {
  "language_info": {
   "name": "python"
  }
 },
 "nbformat": 4,
 "nbformat_minor": 2
}
