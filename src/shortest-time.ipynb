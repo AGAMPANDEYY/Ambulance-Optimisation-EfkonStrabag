{
 "cells": [
  {
   "cell_type": "code",
   "execution_count": 1,
   "metadata": {},
   "outputs": [],
   "source": [
    "import pandas as pd  \n",
    "import numpy as np\n",
    "\n",
    "#df=pf.read_csv(\"\")"
   ]
  },
  {
   "cell_type": "markdown",
   "metadata": {},
   "source": [
    "## Potential sites location data"
   ]
  },
  {
   "cell_type": "code",
   "execution_count": 2,
   "metadata": {},
   "outputs": [],
   "source": [
    "df_ps=pd.read_csv(\"/home/mint/Desktop/Agam_Strabag/files/equip_latlon.csv\")\n",
    "df_ps=df_ps[['Equip_LATITUDE','Equip_LONGITUDE']].drop_duplicates()"
   ]
  },
  {
   "cell_type": "markdown",
   "metadata": {},
   "source": [
    "## Demand Points as per KMeans cluster with LatLon"
   ]
  },
  {
   "cell_type": "code",
   "execution_count": 3,
   "metadata": {},
   "outputs": [
    {
     "data": {
      "text/html": [
       "<div>\n",
       "<style scoped>\n",
       "    .dataframe tbody tr th:only-of-type {\n",
       "        vertical-align: middle;\n",
       "    }\n",
       "\n",
       "    .dataframe tbody tr th {\n",
       "        vertical-align: top;\n",
       "    }\n",
       "\n",
       "    .dataframe thead th {\n",
       "        text-align: right;\n",
       "    }\n",
       "</style>\n",
       "<table border=\"1\" class=\"dataframe\">\n",
       "  <thead>\n",
       "    <tr style=\"text-align: right;\">\n",
       "      <th></th>\n",
       "      <th>Cluster</th>\n",
       "      <th>Accident_LATITUDE</th>\n",
       "      <th>Accident_LONGITUDE</th>\n",
       "      <th>Accident_Frequency</th>\n",
       "    </tr>\n",
       "  </thead>\n",
       "  <tbody>\n",
       "    <tr>\n",
       "      <th>0</th>\n",
       "      <td>0</td>\n",
       "      <td>17.354695</td>\n",
       "      <td>78.670910</td>\n",
       "      <td>2</td>\n",
       "    </tr>\n",
       "    <tr>\n",
       "      <th>1</th>\n",
       "      <td>1</td>\n",
       "      <td>17.549523</td>\n",
       "      <td>78.277730</td>\n",
       "      <td>5</td>\n",
       "    </tr>\n",
       "    <tr>\n",
       "      <th>2</th>\n",
       "      <td>2</td>\n",
       "      <td>17.350922</td>\n",
       "      <td>78.359623</td>\n",
       "      <td>4</td>\n",
       "    </tr>\n",
       "    <tr>\n",
       "      <th>3</th>\n",
       "      <td>3</td>\n",
       "      <td>17.595073</td>\n",
       "      <td>78.505587</td>\n",
       "      <td>4</td>\n",
       "    </tr>\n",
       "    <tr>\n",
       "      <th>4</th>\n",
       "      <td>4</td>\n",
       "      <td>17.213877</td>\n",
       "      <td>78.534427</td>\n",
       "      <td>5</td>\n",
       "    </tr>\n",
       "  </tbody>\n",
       "</table>\n",
       "</div>"
      ],
      "text/plain": [
       "   Cluster  Accident_LATITUDE  Accident_LONGITUDE  Accident_Frequency\n",
       "0        0          17.354695           78.670910                   2\n",
       "1        1          17.549523           78.277730                   5\n",
       "2        2          17.350922           78.359623                   4\n",
       "3        3          17.595073           78.505587                   4\n",
       "4        4          17.213877           78.534427                   5"
      ]
     },
     "execution_count": 3,
     "metadata": {},
     "output_type": "execute_result"
    }
   ],
   "source": [
    "df_dp=pd.read_csv(\"/home/mint/Desktop/Agam_Strabag/files/KMeans_clusters.csv\")\n",
    "df_dp.head()"
   ]
  },
  {
   "cell_type": "markdown",
   "metadata": {},
   "source": [
    "## Sources 16 (2 private hospitals) Trauma Centre-- 19Toll PLaza"
   ]
  },
  {
   "cell_type": "code",
   "execution_count": 4,
   "metadata": {},
   "outputs": [
    {
     "data": {
      "text/html": [
       "<div>\n",
       "<style scoped>\n",
       "    .dataframe tbody tr th:only-of-type {\n",
       "        vertical-align: middle;\n",
       "    }\n",
       "\n",
       "    .dataframe tbody tr th {\n",
       "        vertical-align: top;\n",
       "    }\n",
       "\n",
       "    .dataframe thead th {\n",
       "        text-align: right;\n",
       "    }\n",
       "</style>\n",
       "<table border=\"1\" class=\"dataframe\">\n",
       "  <thead>\n",
       "    <tr style=\"text-align: right;\">\n",
       "      <th></th>\n",
       "      <th>ID</th>\n",
       "      <th>Source_Latitude</th>\n",
       "      <th>Source_Longitude</th>\n",
       "      <th>ambulances</th>\n",
       "    </tr>\n",
       "  </thead>\n",
       "  <tbody>\n",
       "    <tr>\n",
       "      <th>0</th>\n",
       "      <td>1</td>\n",
       "      <td>17.40713</td>\n",
       "      <td>78.33044</td>\n",
       "      <td>1</td>\n",
       "    </tr>\n",
       "    <tr>\n",
       "      <th>1</th>\n",
       "      <td>1</td>\n",
       "      <td>17.46308</td>\n",
       "      <td>78.24922</td>\n",
       "      <td>0</td>\n",
       "    </tr>\n",
       "    <tr>\n",
       "      <th>2</th>\n",
       "      <td>1</td>\n",
       "      <td>17.53758</td>\n",
       "      <td>78.23448</td>\n",
       "      <td>1</td>\n",
       "    </tr>\n",
       "    <tr>\n",
       "      <th>3</th>\n",
       "      <td>1</td>\n",
       "      <td>17.55849</td>\n",
       "      <td>78.31313</td>\n",
       "      <td>0</td>\n",
       "    </tr>\n",
       "    <tr>\n",
       "      <th>4</th>\n",
       "      <td>1</td>\n",
       "      <td>17.59440</td>\n",
       "      <td>78.40774</td>\n",
       "      <td>1</td>\n",
       "    </tr>\n",
       "    <tr>\n",
       "      <th>5</th>\n",
       "      <td>1</td>\n",
       "      <td>17.59829</td>\n",
       "      <td>78.49089</td>\n",
       "      <td>0</td>\n",
       "    </tr>\n",
       "    <tr>\n",
       "      <th>6</th>\n",
       "      <td>1</td>\n",
       "      <td>17.57643</td>\n",
       "      <td>78.57166</td>\n",
       "      <td>1</td>\n",
       "    </tr>\n",
       "    <tr>\n",
       "      <th>7</th>\n",
       "      <td>1</td>\n",
       "      <td>17.44174</td>\n",
       "      <td>78.66665</td>\n",
       "      <td>1</td>\n",
       "    </tr>\n",
       "    <tr>\n",
       "      <th>8</th>\n",
       "      <td>2</td>\n",
       "      <td>17.37449</td>\n",
       "      <td>78.68084</td>\n",
       "      <td>0</td>\n",
       "    </tr>\n",
       "    <tr>\n",
       "      <th>9</th>\n",
       "      <td>2</td>\n",
       "      <td>17.31975</td>\n",
       "      <td>78.65680</td>\n",
       "      <td>1</td>\n",
       "    </tr>\n",
       "    <tr>\n",
       "      <th>10</th>\n",
       "      <td>2</td>\n",
       "      <td>17.23785</td>\n",
       "      <td>78.58414</td>\n",
       "      <td>1</td>\n",
       "    </tr>\n",
       "    <tr>\n",
       "      <th>11</th>\n",
       "      <td>2</td>\n",
       "      <td>17.21239</td>\n",
       "      <td>78.52735</td>\n",
       "      <td>0</td>\n",
       "    </tr>\n",
       "    <tr>\n",
       "      <th>12</th>\n",
       "      <td>2</td>\n",
       "      <td>17.20388</td>\n",
       "      <td>78.47619</td>\n",
       "      <td>1</td>\n",
       "    </tr>\n",
       "    <tr>\n",
       "      <th>13</th>\n",
       "      <td>2</td>\n",
       "      <td>17.20380</td>\n",
       "      <td>78.40018</td>\n",
       "      <td>0</td>\n",
       "    </tr>\n",
       "    <tr>\n",
       "      <th>14</th>\n",
       "      <td>2</td>\n",
       "      <td>17.25335</td>\n",
       "      <td>78.37928</td>\n",
       "      <td>1</td>\n",
       "    </tr>\n",
       "    <tr>\n",
       "      <th>15</th>\n",
       "      <td>2</td>\n",
       "      <td>17.35022</td>\n",
       "      <td>78.36102</td>\n",
       "      <td>1</td>\n",
       "    </tr>\n",
       "  </tbody>\n",
       "</table>\n",
       "</div>"
      ],
      "text/plain": [
       "    ID  Source_Latitude  Source_Longitude  ambulances\n",
       "0    1         17.40713          78.33044           1\n",
       "1    1         17.46308          78.24922           0\n",
       "2    1         17.53758          78.23448           1\n",
       "3    1         17.55849          78.31313           0\n",
       "4    1         17.59440          78.40774           1\n",
       "5    1         17.59829          78.49089           0\n",
       "6    1         17.57643          78.57166           1\n",
       "7    1         17.44174          78.66665           1\n",
       "8    2         17.37449          78.68084           0\n",
       "9    2         17.31975          78.65680           1\n",
       "10   2         17.23785          78.58414           1\n",
       "11   2         17.21239          78.52735           0\n",
       "12   2         17.20388          78.47619           1\n",
       "13   2         17.20380          78.40018           0\n",
       "14   2         17.25335          78.37928           1\n",
       "15   2         17.35022          78.36102           1"
      ]
     },
     "execution_count": 4,
     "metadata": {},
     "output_type": "execute_result"
    }
   ],
   "source": [
    "df_s=pd.read_excel(\"/home/mint/Desktop/Agam_Strabag/files/sources_hosp_toll.xlsx\")\n",
    "df_s"
   ]
  },
  {
   "cell_type": "markdown",
   "metadata": {},
   "source": [
    "## Defining the Demand Points (dp) --Ambulance Source (s) -- No. of Ambulance each location (n) -- Potential Sites (y)"
   ]
  },
  {
   "cell_type": "code",
   "execution_count": 7,
   "metadata": {},
   "outputs": [],
   "source": [
    "dp=len(df_dp)\n",
    "s=10 #Places where ambulances are located\n",
    "n=1 #number of ambulances at each site\n",
    "y=16  #POtential sites are all the trauma centres"
   ]
  },
  {
   "cell_type": "code",
   "execution_count": 8,
   "metadata": {},
   "outputs": [
    {
     "data": {
      "text/html": [
       "<div>\n",
       "<style scoped>\n",
       "    .dataframe tbody tr th:only-of-type {\n",
       "        vertical-align: middle;\n",
       "    }\n",
       "\n",
       "    .dataframe tbody tr th {\n",
       "        vertical-align: top;\n",
       "    }\n",
       "\n",
       "    .dataframe thead th {\n",
       "        text-align: right;\n",
       "    }\n",
       "</style>\n",
       "<table border=\"1\" class=\"dataframe\">\n",
       "  <thead>\n",
       "    <tr style=\"text-align: right;\">\n",
       "      <th></th>\n",
       "      <th>ID</th>\n",
       "      <th>Source_Latitude</th>\n",
       "      <th>Source_Longitude</th>\n",
       "      <th>ambulances</th>\n",
       "    </tr>\n",
       "  </thead>\n",
       "  <tbody>\n",
       "    <tr>\n",
       "      <th>0</th>\n",
       "      <td>1</td>\n",
       "      <td>17.40713</td>\n",
       "      <td>78.33044</td>\n",
       "      <td>1</td>\n",
       "    </tr>\n",
       "    <tr>\n",
       "      <th>1</th>\n",
       "      <td>1</td>\n",
       "      <td>17.46308</td>\n",
       "      <td>78.24922</td>\n",
       "      <td>0</td>\n",
       "    </tr>\n",
       "    <tr>\n",
       "      <th>2</th>\n",
       "      <td>1</td>\n",
       "      <td>17.53758</td>\n",
       "      <td>78.23448</td>\n",
       "      <td>1</td>\n",
       "    </tr>\n",
       "    <tr>\n",
       "      <th>3</th>\n",
       "      <td>1</td>\n",
       "      <td>17.55849</td>\n",
       "      <td>78.31313</td>\n",
       "      <td>0</td>\n",
       "    </tr>\n",
       "    <tr>\n",
       "      <th>4</th>\n",
       "      <td>1</td>\n",
       "      <td>17.59440</td>\n",
       "      <td>78.40774</td>\n",
       "      <td>1</td>\n",
       "    </tr>\n",
       "    <tr>\n",
       "      <th>5</th>\n",
       "      <td>1</td>\n",
       "      <td>17.59829</td>\n",
       "      <td>78.49089</td>\n",
       "      <td>0</td>\n",
       "    </tr>\n",
       "    <tr>\n",
       "      <th>6</th>\n",
       "      <td>1</td>\n",
       "      <td>17.57643</td>\n",
       "      <td>78.57166</td>\n",
       "      <td>1</td>\n",
       "    </tr>\n",
       "    <tr>\n",
       "      <th>7</th>\n",
       "      <td>1</td>\n",
       "      <td>17.44174</td>\n",
       "      <td>78.66665</td>\n",
       "      <td>1</td>\n",
       "    </tr>\n",
       "    <tr>\n",
       "      <th>8</th>\n",
       "      <td>2</td>\n",
       "      <td>17.37449</td>\n",
       "      <td>78.68084</td>\n",
       "      <td>0</td>\n",
       "    </tr>\n",
       "    <tr>\n",
       "      <th>9</th>\n",
       "      <td>2</td>\n",
       "      <td>17.31975</td>\n",
       "      <td>78.65680</td>\n",
       "      <td>1</td>\n",
       "    </tr>\n",
       "    <tr>\n",
       "      <th>10</th>\n",
       "      <td>2</td>\n",
       "      <td>17.23785</td>\n",
       "      <td>78.58414</td>\n",
       "      <td>1</td>\n",
       "    </tr>\n",
       "    <tr>\n",
       "      <th>11</th>\n",
       "      <td>2</td>\n",
       "      <td>17.21239</td>\n",
       "      <td>78.52735</td>\n",
       "      <td>0</td>\n",
       "    </tr>\n",
       "    <tr>\n",
       "      <th>12</th>\n",
       "      <td>2</td>\n",
       "      <td>17.20388</td>\n",
       "      <td>78.47619</td>\n",
       "      <td>1</td>\n",
       "    </tr>\n",
       "    <tr>\n",
       "      <th>13</th>\n",
       "      <td>2</td>\n",
       "      <td>17.20380</td>\n",
       "      <td>78.40018</td>\n",
       "      <td>0</td>\n",
       "    </tr>\n",
       "    <tr>\n",
       "      <th>14</th>\n",
       "      <td>2</td>\n",
       "      <td>17.25335</td>\n",
       "      <td>78.37928</td>\n",
       "      <td>1</td>\n",
       "    </tr>\n",
       "    <tr>\n",
       "      <th>15</th>\n",
       "      <td>2</td>\n",
       "      <td>17.35022</td>\n",
       "      <td>78.36102</td>\n",
       "      <td>1</td>\n",
       "    </tr>\n",
       "  </tbody>\n",
       "</table>\n",
       "</div>"
      ],
      "text/plain": [
       "    ID  Source_Latitude  Source_Longitude  ambulances\n",
       "0    1         17.40713          78.33044           1\n",
       "1    1         17.46308          78.24922           0\n",
       "2    1         17.53758          78.23448           1\n",
       "3    1         17.55849          78.31313           0\n",
       "4    1         17.59440          78.40774           1\n",
       "5    1         17.59829          78.49089           0\n",
       "6    1         17.57643          78.57166           1\n",
       "7    1         17.44174          78.66665           1\n",
       "8    2         17.37449          78.68084           0\n",
       "9    2         17.31975          78.65680           1\n",
       "10   2         17.23785          78.58414           1\n",
       "11   2         17.21239          78.52735           0\n",
       "12   2         17.20388          78.47619           1\n",
       "13   2         17.20380          78.40018           0\n",
       "14   2         17.25335          78.37928           1\n",
       "15   2         17.35022          78.36102           1"
      ]
     },
     "execution_count": 8,
     "metadata": {},
     "output_type": "execute_result"
    }
   ],
   "source": [
    "df_s_ambavail=df_s.loc[df_s['ambulances']==1]\n",
    "df_s_ambnotavail=df_s.loc[df_s['ambulances']==0]\n",
    "df_s"
   ]
  },
  {
   "cell_type": "markdown",
   "metadata": {},
   "source": [
    "## Plotting the demand points (accident locations) and current sources (ambulance location in trauma centres)"
   ]
  },
  {
   "cell_type": "code",
   "execution_count": 20,
   "metadata": {},
   "outputs": [
    {
     "data": {
      "application/vnd.plotly.v1+json": {
       "config": {
        "plotlyServerURL": "https://plot.ly"
       },
       "data": [
        {
         "hovertemplate": "<b>%{hovertext}</b><br><br>Accident_Frequency=%{marker.color}<br>Accident_LATITUDE=%{lat}<br>Accident_LONGITUDE=%{lon}<extra></extra>",
         "hovertext": [
          0,
          1,
          2,
          3,
          4,
          5,
          6,
          7,
          8,
          9,
          10,
          11,
          12,
          13,
          14,
          15,
          16,
          17,
          18,
          19,
          20,
          21,
          22,
          23,
          24,
          25
         ],
         "lat": [
          17.354695,
          17.549523333333333,
          17.3509225,
          17.595073333333332,
          17.213876666666668,
          17.237940000000002,
          17.526233333333334,
          17.571530000000003,
          17.416915,
          17.459216666666666,
          17.44637,
          17.5653775,
          17.2308175,
          17.31261,
          17.6066,
          17.527048333333333,
          17.3116225,
          17.2034,
          17.2051,
          17.559485,
          17.41343,
          17.398865,
          17.3891725,
          17.48407,
          17.25649,
          17.258953333333334
         ],
         "legendgroup": "",
         "lon": [
          78.67090999999999,
          78.27773,
          78.3596225,
          78.50558666666667,
          78.53442666666666,
          78.381955,
          78.64025666666667,
          78.37946,
          78.34454,
          78.25220333333333,
          78.66874333333332,
          78.619475,
          78.575885,
          78.65652800000001,
          78.45456999999999,
          78.24003,
          78.377375,
          78.41243333333334,
          78.48928000000001,
          78.325715,
          78.30131,
          78.68354500000001,
          78.350535,
          78.6661,
          78.61857,
          78.37756
         ],
         "marker": {
          "color": [
           2,
           5,
           4,
           4,
           5,
           3,
           4,
           7,
           2,
           9,
           3,
           5,
           6,
           6,
           3,
           8,
           4,
           3,
           3,
           4,
           3,
           4,
           4,
           1,
           1,
           4
          ],
          "coloraxis": "coloraxis",
          "size": [
           2,
           5,
           4,
           4,
           5,
           3,
           4,
           7,
           2,
           9,
           3,
           5,
           6,
           6,
           3,
           8,
           4,
           3,
           3,
           4,
           3,
           4,
           4,
           1,
           1,
           4
          ],
          "sizemode": "area",
          "sizeref": 0.0144
         },
         "mode": "markers",
         "name": "",
         "showlegend": false,
         "subplot": "mapbox",
         "type": "scattermapbox"
        },
        {
         "hovertemplate": "Source_Latitude=%{lat}<br>Source_Longitude=%{lon}<extra></extra>",
         "lat": [
          17.40713,
          17.46308,
          17.53758,
          17.55849,
          17.5944,
          17.59829,
          17.57643,
          17.44174,
          17.37449,
          17.31975,
          17.23785,
          17.21239,
          17.20388,
          17.2038,
          17.25335,
          17.35022
         ],
         "legendgroup": "",
         "lon": [
          78.33044,
          78.24922,
          78.23448,
          78.31313,
          78.40774,
          78.49089,
          78.57166,
          78.66665,
          78.68084,
          78.6568,
          78.58414,
          78.52735,
          78.47619,
          78.40018,
          78.37928,
          78.36102
         ],
         "marker": {
          "color": "black"
         },
         "mode": "markers",
         "name": "Trauma Centers",
         "showlegend": false,
         "subplot": "mapbox",
         "type": "scattermapbox"
        },
        {
         "hovertemplate": "Source_Latitude=%{lat}<br>Source_Longitude=%{lon}<extra></extra>",
         "lat": [
          17.40713,
          17.53758,
          17.5944,
          17.57643,
          17.44174,
          17.31975,
          17.23785,
          17.20388,
          17.25335,
          17.35022
         ],
         "legendgroup": "",
         "lon": [
          78.33044,
          78.23448,
          78.40774,
          78.57166,
          78.66665,
          78.6568,
          78.58414,
          78.47619,
          78.37928,
          78.36102
         ],
         "marker": {
          "color": "blue"
         },
         "mode": "markers",
         "name": "Ambulances",
         "showlegend": false,
         "subplot": "mapbox",
         "type": "scattermapbox"
        }
       ],
       "layout": {
        "coloraxis": {
         "colorbar": {
          "title": {
           "text": "Accident_Frequency"
          }
         },
         "colorscale": [
          [
           0,
           "rgb(255,245,240)"
          ],
          [
           0.125,
           "rgb(254,224,210)"
          ],
          [
           0.25,
           "rgb(252,187,161)"
          ],
          [
           0.375,
           "rgb(252,146,114)"
          ],
          [
           0.5,
           "rgb(251,106,74)"
          ],
          [
           0.625,
           "rgb(239,59,44)"
          ],
          [
           0.75,
           "rgb(203,24,29)"
          ],
          [
           0.875,
           "rgb(165,15,21)"
          ],
          [
           1,
           "rgb(103,0,13)"
          ]
         ]
        },
        "legend": {
         "itemsizing": "constant",
         "orientation": "h",
         "title": {
          "text": "Fatal Accident Cluster and Ambulances location Yellow--Trauma Centre  Blue--Ambulance deployed"
         },
         "tracegroupgap": 0,
         "x": 1,
         "xanchor": "right",
         "y": 1.02,
         "yanchor": "bottom"
        },
        "mapbox": {
         "center": {
          "lat": 17.40174375,
          "lon": 78.46785944230768
         },
         "domain": {
          "x": [
           0,
           1
          ],
          "y": [
           0,
           1
          ]
         },
         "style": "carto-positron",
         "zoom": 8.5
        },
        "template": {
         "data": {
          "bar": [
           {
            "error_x": {
             "color": "#2a3f5f"
            },
            "error_y": {
             "color": "#2a3f5f"
            },
            "marker": {
             "line": {
              "color": "#E5ECF6",
              "width": 0.5
             },
             "pattern": {
              "fillmode": "overlay",
              "size": 10,
              "solidity": 0.2
             }
            },
            "type": "bar"
           }
          ],
          "barpolar": [
           {
            "marker": {
             "line": {
              "color": "#E5ECF6",
              "width": 0.5
             },
             "pattern": {
              "fillmode": "overlay",
              "size": 10,
              "solidity": 0.2
             }
            },
            "type": "barpolar"
           }
          ],
          "carpet": [
           {
            "aaxis": {
             "endlinecolor": "#2a3f5f",
             "gridcolor": "white",
             "linecolor": "white",
             "minorgridcolor": "white",
             "startlinecolor": "#2a3f5f"
            },
            "baxis": {
             "endlinecolor": "#2a3f5f",
             "gridcolor": "white",
             "linecolor": "white",
             "minorgridcolor": "white",
             "startlinecolor": "#2a3f5f"
            },
            "type": "carpet"
           }
          ],
          "choropleth": [
           {
            "colorbar": {
             "outlinewidth": 0,
             "ticks": ""
            },
            "type": "choropleth"
           }
          ],
          "contour": [
           {
            "colorbar": {
             "outlinewidth": 0,
             "ticks": ""
            },
            "colorscale": [
             [
              0,
              "#0d0887"
             ],
             [
              0.1111111111111111,
              "#46039f"
             ],
             [
              0.2222222222222222,
              "#7201a8"
             ],
             [
              0.3333333333333333,
              "#9c179e"
             ],
             [
              0.4444444444444444,
              "#bd3786"
             ],
             [
              0.5555555555555556,
              "#d8576b"
             ],
             [
              0.6666666666666666,
              "#ed7953"
             ],
             [
              0.7777777777777778,
              "#fb9f3a"
             ],
             [
              0.8888888888888888,
              "#fdca26"
             ],
             [
              1,
              "#f0f921"
             ]
            ],
            "type": "contour"
           }
          ],
          "contourcarpet": [
           {
            "colorbar": {
             "outlinewidth": 0,
             "ticks": ""
            },
            "type": "contourcarpet"
           }
          ],
          "heatmap": [
           {
            "colorbar": {
             "outlinewidth": 0,
             "ticks": ""
            },
            "colorscale": [
             [
              0,
              "#0d0887"
             ],
             [
              0.1111111111111111,
              "#46039f"
             ],
             [
              0.2222222222222222,
              "#7201a8"
             ],
             [
              0.3333333333333333,
              "#9c179e"
             ],
             [
              0.4444444444444444,
              "#bd3786"
             ],
             [
              0.5555555555555556,
              "#d8576b"
             ],
             [
              0.6666666666666666,
              "#ed7953"
             ],
             [
              0.7777777777777778,
              "#fb9f3a"
             ],
             [
              0.8888888888888888,
              "#fdca26"
             ],
             [
              1,
              "#f0f921"
             ]
            ],
            "type": "heatmap"
           }
          ],
          "heatmapgl": [
           {
            "colorbar": {
             "outlinewidth": 0,
             "ticks": ""
            },
            "colorscale": [
             [
              0,
              "#0d0887"
             ],
             [
              0.1111111111111111,
              "#46039f"
             ],
             [
              0.2222222222222222,
              "#7201a8"
             ],
             [
              0.3333333333333333,
              "#9c179e"
             ],
             [
              0.4444444444444444,
              "#bd3786"
             ],
             [
              0.5555555555555556,
              "#d8576b"
             ],
             [
              0.6666666666666666,
              "#ed7953"
             ],
             [
              0.7777777777777778,
              "#fb9f3a"
             ],
             [
              0.8888888888888888,
              "#fdca26"
             ],
             [
              1,
              "#f0f921"
             ]
            ],
            "type": "heatmapgl"
           }
          ],
          "histogram": [
           {
            "marker": {
             "pattern": {
              "fillmode": "overlay",
              "size": 10,
              "solidity": 0.2
             }
            },
            "type": "histogram"
           }
          ],
          "histogram2d": [
           {
            "colorbar": {
             "outlinewidth": 0,
             "ticks": ""
            },
            "colorscale": [
             [
              0,
              "#0d0887"
             ],
             [
              0.1111111111111111,
              "#46039f"
             ],
             [
              0.2222222222222222,
              "#7201a8"
             ],
             [
              0.3333333333333333,
              "#9c179e"
             ],
             [
              0.4444444444444444,
              "#bd3786"
             ],
             [
              0.5555555555555556,
              "#d8576b"
             ],
             [
              0.6666666666666666,
              "#ed7953"
             ],
             [
              0.7777777777777778,
              "#fb9f3a"
             ],
             [
              0.8888888888888888,
              "#fdca26"
             ],
             [
              1,
              "#f0f921"
             ]
            ],
            "type": "histogram2d"
           }
          ],
          "histogram2dcontour": [
           {
            "colorbar": {
             "outlinewidth": 0,
             "ticks": ""
            },
            "colorscale": [
             [
              0,
              "#0d0887"
             ],
             [
              0.1111111111111111,
              "#46039f"
             ],
             [
              0.2222222222222222,
              "#7201a8"
             ],
             [
              0.3333333333333333,
              "#9c179e"
             ],
             [
              0.4444444444444444,
              "#bd3786"
             ],
             [
              0.5555555555555556,
              "#d8576b"
             ],
             [
              0.6666666666666666,
              "#ed7953"
             ],
             [
              0.7777777777777778,
              "#fb9f3a"
             ],
             [
              0.8888888888888888,
              "#fdca26"
             ],
             [
              1,
              "#f0f921"
             ]
            ],
            "type": "histogram2dcontour"
           }
          ],
          "mesh3d": [
           {
            "colorbar": {
             "outlinewidth": 0,
             "ticks": ""
            },
            "type": "mesh3d"
           }
          ],
          "parcoords": [
           {
            "line": {
             "colorbar": {
              "outlinewidth": 0,
              "ticks": ""
             }
            },
            "type": "parcoords"
           }
          ],
          "pie": [
           {
            "automargin": true,
            "type": "pie"
           }
          ],
          "scatter": [
           {
            "fillpattern": {
             "fillmode": "overlay",
             "size": 10,
             "solidity": 0.2
            },
            "type": "scatter"
           }
          ],
          "scatter3d": [
           {
            "line": {
             "colorbar": {
              "outlinewidth": 0,
              "ticks": ""
             }
            },
            "marker": {
             "colorbar": {
              "outlinewidth": 0,
              "ticks": ""
             }
            },
            "type": "scatter3d"
           }
          ],
          "scattercarpet": [
           {
            "marker": {
             "colorbar": {
              "outlinewidth": 0,
              "ticks": ""
             }
            },
            "type": "scattercarpet"
           }
          ],
          "scattergeo": [
           {
            "marker": {
             "colorbar": {
              "outlinewidth": 0,
              "ticks": ""
             }
            },
            "type": "scattergeo"
           }
          ],
          "scattergl": [
           {
            "marker": {
             "colorbar": {
              "outlinewidth": 0,
              "ticks": ""
             }
            },
            "type": "scattergl"
           }
          ],
          "scattermapbox": [
           {
            "marker": {
             "colorbar": {
              "outlinewidth": 0,
              "ticks": ""
             }
            },
            "type": "scattermapbox"
           }
          ],
          "scatterpolar": [
           {
            "marker": {
             "colorbar": {
              "outlinewidth": 0,
              "ticks": ""
             }
            },
            "type": "scatterpolar"
           }
          ],
          "scatterpolargl": [
           {
            "marker": {
             "colorbar": {
              "outlinewidth": 0,
              "ticks": ""
             }
            },
            "type": "scatterpolargl"
           }
          ],
          "scatterternary": [
           {
            "marker": {
             "colorbar": {
              "outlinewidth": 0,
              "ticks": ""
             }
            },
            "type": "scatterternary"
           }
          ],
          "surface": [
           {
            "colorbar": {
             "outlinewidth": 0,
             "ticks": ""
            },
            "colorscale": [
             [
              0,
              "#0d0887"
             ],
             [
              0.1111111111111111,
              "#46039f"
             ],
             [
              0.2222222222222222,
              "#7201a8"
             ],
             [
              0.3333333333333333,
              "#9c179e"
             ],
             [
              0.4444444444444444,
              "#bd3786"
             ],
             [
              0.5555555555555556,
              "#d8576b"
             ],
             [
              0.6666666666666666,
              "#ed7953"
             ],
             [
              0.7777777777777778,
              "#fb9f3a"
             ],
             [
              0.8888888888888888,
              "#fdca26"
             ],
             [
              1,
              "#f0f921"
             ]
            ],
            "type": "surface"
           }
          ],
          "table": [
           {
            "cells": {
             "fill": {
              "color": "#EBF0F8"
             },
             "line": {
              "color": "white"
             }
            },
            "header": {
             "fill": {
              "color": "#C8D4E3"
             },
             "line": {
              "color": "white"
             }
            },
            "type": "table"
           }
          ]
         },
         "layout": {
          "annotationdefaults": {
           "arrowcolor": "#2a3f5f",
           "arrowhead": 0,
           "arrowwidth": 1
          },
          "autotypenumbers": "strict",
          "coloraxis": {
           "colorbar": {
            "outlinewidth": 0,
            "ticks": ""
           }
          },
          "colorscale": {
           "diverging": [
            [
             0,
             "#8e0152"
            ],
            [
             0.1,
             "#c51b7d"
            ],
            [
             0.2,
             "#de77ae"
            ],
            [
             0.3,
             "#f1b6da"
            ],
            [
             0.4,
             "#fde0ef"
            ],
            [
             0.5,
             "#f7f7f7"
            ],
            [
             0.6,
             "#e6f5d0"
            ],
            [
             0.7,
             "#b8e186"
            ],
            [
             0.8,
             "#7fbc41"
            ],
            [
             0.9,
             "#4d9221"
            ],
            [
             1,
             "#276419"
            ]
           ],
           "sequential": [
            [
             0,
             "#0d0887"
            ],
            [
             0.1111111111111111,
             "#46039f"
            ],
            [
             0.2222222222222222,
             "#7201a8"
            ],
            [
             0.3333333333333333,
             "#9c179e"
            ],
            [
             0.4444444444444444,
             "#bd3786"
            ],
            [
             0.5555555555555556,
             "#d8576b"
            ],
            [
             0.6666666666666666,
             "#ed7953"
            ],
            [
             0.7777777777777778,
             "#fb9f3a"
            ],
            [
             0.8888888888888888,
             "#fdca26"
            ],
            [
             1,
             "#f0f921"
            ]
           ],
           "sequentialminus": [
            [
             0,
             "#0d0887"
            ],
            [
             0.1111111111111111,
             "#46039f"
            ],
            [
             0.2222222222222222,
             "#7201a8"
            ],
            [
             0.3333333333333333,
             "#9c179e"
            ],
            [
             0.4444444444444444,
             "#bd3786"
            ],
            [
             0.5555555555555556,
             "#d8576b"
            ],
            [
             0.6666666666666666,
             "#ed7953"
            ],
            [
             0.7777777777777778,
             "#fb9f3a"
            ],
            [
             0.8888888888888888,
             "#fdca26"
            ],
            [
             1,
             "#f0f921"
            ]
           ]
          },
          "colorway": [
           "#636efa",
           "#EF553B",
           "#00cc96",
           "#ab63fa",
           "#FFA15A",
           "#19d3f3",
           "#FF6692",
           "#B6E880",
           "#FF97FF",
           "#FECB52"
          ],
          "font": {
           "color": "#2a3f5f"
          },
          "geo": {
           "bgcolor": "white",
           "lakecolor": "white",
           "landcolor": "#E5ECF6",
           "showlakes": true,
           "showland": true,
           "subunitcolor": "white"
          },
          "hoverlabel": {
           "align": "left"
          },
          "hovermode": "closest",
          "mapbox": {
           "style": "light"
          },
          "paper_bgcolor": "white",
          "plot_bgcolor": "#E5ECF6",
          "polar": {
           "angularaxis": {
            "gridcolor": "white",
            "linecolor": "white",
            "ticks": ""
           },
           "bgcolor": "#E5ECF6",
           "radialaxis": {
            "gridcolor": "white",
            "linecolor": "white",
            "ticks": ""
           }
          },
          "scene": {
           "xaxis": {
            "backgroundcolor": "#E5ECF6",
            "gridcolor": "white",
            "gridwidth": 2,
            "linecolor": "white",
            "showbackground": true,
            "ticks": "",
            "zerolinecolor": "white"
           },
           "yaxis": {
            "backgroundcolor": "#E5ECF6",
            "gridcolor": "white",
            "gridwidth": 2,
            "linecolor": "white",
            "showbackground": true,
            "ticks": "",
            "zerolinecolor": "white"
           },
           "zaxis": {
            "backgroundcolor": "#E5ECF6",
            "gridcolor": "white",
            "gridwidth": 2,
            "linecolor": "white",
            "showbackground": true,
            "ticks": "",
            "zerolinecolor": "white"
           }
          },
          "shapedefaults": {
           "line": {
            "color": "#2a3f5f"
           }
          },
          "ternary": {
           "aaxis": {
            "gridcolor": "white",
            "linecolor": "white",
            "ticks": ""
           },
           "baxis": {
            "gridcolor": "white",
            "linecolor": "white",
            "ticks": ""
           },
           "bgcolor": "#E5ECF6",
           "caxis": {
            "gridcolor": "white",
            "linecolor": "white",
            "ticks": ""
           }
          },
          "title": {
           "x": 0.05
          },
          "xaxis": {
           "automargin": true,
           "gridcolor": "white",
           "linecolor": "white",
           "ticks": "",
           "title": {
            "standoff": 15
           },
           "zerolinecolor": "white",
           "zerolinewidth": 2
          },
          "yaxis": {
           "automargin": true,
           "gridcolor": "white",
           "linecolor": "white",
           "ticks": "",
           "title": {
            "standoff": 15
           },
           "zerolinecolor": "white",
           "zerolinewidth": 2
          }
         }
        },
        "title": {
         "text": "Fatal Accident Cluster and Ambulances location Yellow--Trauma Centre  Blue--Ambulance deployed"
        }
       }
      }
     },
     "metadata": {},
     "output_type": "display_data"
    }
   ],
   "source": [
    "import plotly.express as px\n",
    "\n",
    "\n",
    "# Function to create scatter plot\n",
    "def plot_centroids_ambulance(data,df_ambulances,df_trauma ,title):\n",
    "    df_accidents = pd.DataFrame(data, columns=['Accident_LATITUDE', 'Accident_LONGITUDE', 'Accident_Frequency','Cluster'])\n",
    "    \n",
    "    fig = px.scatter_mapbox(df_accidents, lat=\"Accident_LATITUDE\", lon=\"Accident_LONGITUDE\", color=\"Accident_Frequency\", size='Accident_Frequency',\n",
    "                            color_continuous_scale='Reds', size_max=25, zoom=8.5,\n",
    "                            mapbox_style=\"carto-positron\", title=title, hover_name='Cluster')\n",
    "                            #,labels={'Accident_Frequency': 'Sum of Accident Frequency'})\n",
    "\n",
    "        # Add trace for trauma centers\n",
    "    trace_trauma = px.scatter_mapbox(df_trauma, lat=\"Source_Latitude\", lon=\"Source_Longitude\",\n",
    "                                     color_discrete_sequence=['black'], \n",
    "                                     size_max=15, zoom=8.5,\n",
    "                                     mapbox_style=\"carto-positron\").data[0]\n",
    "    trace_trauma.name = 'Trauma Centers'\n",
    "    fig.add_trace(trace_trauma)\n",
    "\n",
    "\n",
    "        # Add trace for ambulances\n",
    "    trace_ambulances = px.scatter_mapbox(df_ambulances, lat=\"Source_Latitude\", lon=\"Source_Longitude\",\n",
    "                                         color_discrete_sequence=['blue'], \n",
    "                                         size_max=30, zoom=8.5,\n",
    "                                         mapbox_style=\"carto-positron\").data[0]\n",
    "    trace_ambulances.name = 'Ambulances'\n",
    "    fig.add_trace(trace_ambulances)\n",
    "\n",
    "    fig.update_layout(legend=dict(\n",
    "    title=title,\n",
    "    orientation='h',  # horizontal legend\n",
    "    yanchor='bottom',\n",
    "    y=1.02,\n",
    "    xanchor='right',\n",
    "    x=1\n",
    "    ))\n",
    "\n",
    "    fig.show()\n",
    "\n",
    "plot_centroids_ambulance(df_dp,df_s_ambavail,df_s, 'Fatal Accident Cluster and Ambulances location Yellow--Trauma Centre  Blue--Ambulance deployed')"
   ]
  },
  {
   "cell_type": "code",
   "execution_count": 21,
   "metadata": {},
   "outputs": [],
   "source": [
    "dp_cords_list=[]\n",
    "s_cords_list=[]\n",
    "\n",
    "for _,row in df_dp.iterrows():\n",
    "    dp_cords_list.append([row['Accident_LATITUDE'],row['Accident_LONGITUDE']])\n",
    "\n",
    "for _,row in df_s.iterrows():\n",
    "    s_cords_list.append([row['Source_Latitude'],row['Source_Longitude']])"
   ]
  },
  {
   "cell_type": "code",
   "execution_count": 22,
   "metadata": {},
   "outputs": [],
   "source": [
    "source_cords=pd.DataFrame({\"Source\":s_cords_list})\n",
    "dp_cords=pd.DataFrame({\"Demand Point\":dp_cords_list})\n",
    "\n",
    "source_cords.to_csv(\"source_cords.csv\",index=False)\n",
    "dp_cords.to_csv(\"dp_cords.csv\",index=False)"
   ]
  },
  {
   "cell_type": "markdown",
   "metadata": {},
   "source": [
    "## Calculating Distance Matrix then using speed v cal. time matrix"
   ]
  },
  {
   "cell_type": "markdown",
   "metadata": {},
   "source": [
    "### Based on haversine method i.e. static (doesn't consider historical data and avg actual time on the road)"
   ]
  },
  {
   "cell_type": "markdown",
   "metadata": {},
   "source": [
    "### Matrix will be 16x26 - df_psxdf_dp"
   ]
  },
  {
   "cell_type": "code",
   "execution_count": 23,
   "metadata": {},
   "outputs": [],
   "source": [
    "import geopy.distance as geodesic\n",
    "\n",
    "distance_matrix=np.zeros((len(s_cords_list),len(dp_cords_list)))\n",
    "\n",
    "for i in range(len(s_cords_list)):\n",
    "    for j in range (len(dp_cords_list)):\n",
    "        distance_matrix[i,j]=geodesic.geodesic(s_cords_list[i],dp_cords_list[j]).km\n"
   ]
  },
  {
   "cell_type": "code",
   "execution_count": 24,
   "metadata": {},
   "outputs": [
    {
     "data": {
      "text/plain": [
       "array([[36.64362222, 16.72418593,  6.95084892, 27.90407593, 30.458255  ,\n",
       "        19.50906552, 35.45018067, 18.9250956 ,  1.84855651, 10.11512605,\n",
       "        36.20340224, 35.34239433, 32.58125099, 36.20113396, 25.7124358 ,\n",
       "        16.38184221, 11.68804769, 24.17365765, 28.019405  , 16.86928994,\n",
       "         3.17266727, 37.53053616,  2.91705207, 36.6601415 , 34.87084594,\n",
       "        17.14696962],\n",
       "       [46.38340445, 10.03474093, 17.07885931, 30.89373485, 40.98393936,\n",
       "        28.63363949, 42.11314416, 18.3121944 , 11.34219964,  0.53220338,\n",
       "        44.60250681, 40.91541951, 43.20036917, 46.37544484, 26.97617354,\n",
       "         7.14663462, 21.59710686, 33.56999873, 38.29244871, 13.40997256,\n",
       "         7.79855977, 46.68653894, 13.51919599, 44.33970153, 45.42787943,\n",
       "        26.38972174],\n",
       "       [50.58793125,  4.77849116, 24.56608589, 29.4759165 , 47.95325147,\n",
       "        36.67863886, 43.1040138 , 15.84417381, 17.74807585,  8.87473619,\n",
       "        47.21233656, 40.99032994, 49.68764182, 51.28849786, 24.58123912,\n",
       "         1.30609552, 29.25510405, 41.53954846, 45.68634408,  9.98530387,\n",
       "        15.46542444, 50.10844628, 20.53638579, 46.2160847 , 51.31749246,\n",
       "        34.38083053],\n",
       "       [44.19392233,  3.88716013, 23.49725173, 20.82752862, 44.80662794,\n",
       "        36.22237338, 34.91559405,  7.18807182, 16.01994224, 12.75057783,\n",
       "        39.75181256, 32.5315543 , 45.76764351, 45.51284622, 15.93025825,\n",
       "         8.50575194, 28.16141386, 40.69121435, 43.35970797,  1.34061848,\n",
       "        16.10346406, 43.12689207, 19.15565513, 38.37515037, 46.58735858,\n",
       "        33.85031426],\n",
       "       [38.53744156, 14.66803254, 27.42712329, 10.3861293 , 44.21292178,\n",
       "        39.54580082, 25.81212073,  3.92663495, 20.75807405, 22.2846389 ,\n",
       "        32.19546179, 22.70464765, 44.02673101, 40.87850198,  5.15070963,\n",
       "        19.30219929, 31.46196679, 43.27626447, 43.94777969,  9.52628037,\n",
       "        22.99785551, 36.41809259, 23.51197447, 30.02675864, 43.59262429,\n",
       "        37.26340915],\n",
       "       [33.05178126, 23.26307295, 30.72306651,  1.60005798, 42.79520443,\n",
       "        41.52681958, 17.74968246, 12.19344469, 25.38688044, 29.65215409,\n",
       "        25.28573157, 14.12721605, 41.66013308, 36.18345705,  3.96318976,\n",
       "        27.77470076, 33.94088844, 44.49191486, 43.51611464, 18.05222594,\n",
       "        28.70379268, 30.09575015, 27.52885408, 22.49165924, 40.18694793,\n",
       "        39.43856872],\n",
       "       [26.70898277, 31.34619719, 33.61798794,  7.31086726, 40.31966286,\n",
       "        42.54046583,  9.15992689, 20.41046001, 29.89095628, 36.31864463,\n",
       "        17.7055028 ,  5.22126574, 38.25284353, 30.55827551, 12.86937771,\n",
       "        35.63058666, 35.84547938, 44.61722456, 42.01839408, 26.17675754,\n",
       "        33.90881978, 22.9652446 , 31.32222059, 14.31940314, 35.75803697,\n",
       "        40.74129157],\n",
       "       [ 9.64421442, 42.99213138, 34.13777098, 24.09362014, 28.87057775,\n",
       "        37.74189243,  9.76238065, 33.71178674, 34.33120713, 44.06836543,\n",
       "         0.5585945 , 14.57183454, 25.25855356, 14.33167934, 28.98366808,\n",
       "        46.2838687 , 33.94722728, 37.7632984 , 32.27064651, 38.48067058,\n",
       "        38.94048441,  5.0733095 , 34.08687143,  4.68520909, 21.12946991,\n",
       "        36.78769762],\n",
       "       [ 2.43171608, 46.99703997, 34.23812653, 30.69933855, 23.62796281,\n",
       "        35.18558096, 17.3385811 , 38.73328679, 36.0423234 , 46.49695503,\n",
       "         8.05838958, 22.10899103, 19.42505919,  7.31976059, 35.17664335,\n",
       "        49.77734455, 32.99723708, 34.2477942 , 27.68120981, 42.91917713,\n",
       "        40.55878396,  2.71293752, 35.13838982, 12.22833925, 14.64129492,\n",
       "        34.68337609],\n",
       "       [ 4.14809606, 47.62838418, 31.77620865, 34.44558353, 17.51048888,\n",
       "        30.59391752, 22.91980771, 40.5524506 , 34.88444768, 45.68057608,\n",
       "        14.07082978, 27.47226071, 13.07265784,  0.79073205, 38.33146776,\n",
       "        49.86989844, 29.71815195, 29.00070159, 21.87052674, 44.05771657,\n",
       "        39.17705548,  9.20574005, 33.44541781, 18.21272463,  8.09552636,\n",
       "        30.44199588],\n",
       "       [15.8848194 , 47.43363081, 26.95164398, 40.40662494,  5.91571947,\n",
       "        21.50249157, 32.468709  , 42.85764573, 32.27108086, 42.95268623,\n",
       "        24.76768997, 36.44259455,  1.17325624, 11.30043643, 43.07020121,\n",
       "        48.59644134, 23.4522827 , 18.65652687, 10.72059131, 44.95717189,\n",
       "        35.7979984 , 20.71754772, 29.95317437, 28.60832671,  4.20261864,\n",
       "        22.0924574 ],\n",
       "       [21.93229803, 45.78019943, 23.51813021, 42.41605856,  0.77048017,\n",
       "        15.72030129, 36.74827495, 42.741208  , 29.83344121, 40.01972769,\n",
       "        29.94092354, 40.2742619 ,  5.55042669, 17.65529667, 44.30871906,\n",
       "        46.3152939 , 19.3634781 , 12.26384971,  4.12899103, 43.98590125,\n",
       "        32.74865906, 26.48869973, 27.13212971, 33.48952119, 10.85998239,\n",
       "        16.74320614],\n",
       "       [26.59407355, 43.68225357, 20.45601028, 43.4073246 ,  6.29249166,\n",
       "        10.70825431, 39.70898289, 41.96737681, 27.41820284, 36.95176541,\n",
       "        33.75184065, 42.80766047, 11.01490148, 22.63972749, 44.62967543,\n",
       "        43.69374261, 15.89339196,  6.78201486,  1.39891014, 42.48055362,\n",
       "        29.72349874, 30.8487561 , 24.47443036, 37.00053635, 16.22362082,\n",
       "        12.13194422],\n",
       "       [33.27930906, 40.41463934, 16.84377541, 44.72863694, 14.32292179,\n",
       "         4.24655651, 43.86800453, 40.75748555, 24.31639525, 32.34931222,\n",
       "        39.18818221, 46.30789873, 18.92608384, 29.80117741, 44.95240516,\n",
       "        39.61738088, 12.17686285,  1.30414087,  9.47863191, 40.1523748 ,\n",
       "        25.47022493, 37.06230307, 21.18371492, 41.96450392, 23.94768015,\n",
       "         6.56089694],\n",
       "       [32.97038187, 34.50894216, 10.99896598, 40.13000317, 17.06883016,\n",
       "         1.72901761, 41.00210569, 35.21418944, 18.4750139 , 26.48621352,\n",
       "        37.45509839, 42.94035827, 21.05676599, 30.19907667, 39.90545467,\n",
       "        33.71214739,  6.45233418,  6.55686311, 12.860163  , 34.35580901,\n",
       "        19.55924202, 36.13098953, 15.33928688, 39.76378046, 25.4486663 ,\n",
       "         0.64654346],\n",
       "       [32.94031129, 23.76608315,  0.1676521 , 31.14703391, 23.82504183,\n",
       "        12.62406963, 35.48905104, 24.57152886,  7.58627338, 16.7093882 ,\n",
       "        34.3861376 , 36.34222059, 26.39123259, 31.68616417, 30.0641293 ,\n",
       "        23.41380288,  4.61191276, 17.14384986, 21.06969748, 23.4619214 ,\n",
       "         9.44466034, 34.69562693,  4.45268283, 35.63860573, 29.28003974,\n",
       "        10.25263378]])"
      ]
     },
     "execution_count": 24,
     "metadata": {},
     "output_type": "execute_result"
    }
   ],
   "source": [
    "distance_matrix"
   ]
  },
  {
   "cell_type": "code",
   "execution_count": 25,
   "metadata": {},
   "outputs": [],
   "source": [
    "np.savetxt('distance_matrix.csv', distance_matrix, delimiter=',')"
   ]
  },
  {
   "cell_type": "markdown",
   "metadata": {},
   "source": [
    "## Converting Distance Matrix to Time Matrix v=100km/hr"
   ]
  },
  {
   "cell_type": "code",
   "execution_count": 26,
   "metadata": {},
   "outputs": [],
   "source": [
    "velocity=110 # in km/hr\n",
    "time_array=distance_matrix/velocity"
   ]
  },
  {
   "cell_type": "code",
   "execution_count": 27,
   "metadata": {},
   "outputs": [],
   "source": [
    "np.savetxt('time_matrix.csv',time_array,delimiter=',')"
   ]
  },
  {
   "cell_type": "code",
   "execution_count": null,
   "metadata": {},
   "outputs": [],
   "source": []
  }
 ],
 "metadata": {
  "kernelspec": {
   "display_name": "venv_agam",
   "language": "python",
   "name": "python3"
  },
  "language_info": {
   "codemirror_mode": {
    "name": "ipython",
    "version": 3
   },
   "file_extension": ".py",
   "mimetype": "text/x-python",
   "name": "python",
   "nbconvert_exporter": "python",
   "pygments_lexer": "ipython3",
   "version": "3.12.3"
  }
 },
 "nbformat": 4,
 "nbformat_minor": 2
}
